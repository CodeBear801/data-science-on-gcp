{
 "cells": [
  {
   "cell_type": "code",
   "execution_count": null,
   "metadata": {},
   "outputs": [],
   "source": []
  },
  {
   "cell_type": "code",
   "execution_count": 19,
   "metadata": {},
   "outputs": [
    {
     "name": "stdout",
     "output_type": "stream",
     "text": [
      "/content/datalab\r\n"
     ]
    }
   ],
   "source": [
    "!pwd"
   ]
  },
  {
   "cell_type": "code",
   "execution_count": 20,
   "metadata": {},
   "outputs": [
    {
     "name": "stdout",
     "output_type": "stream",
     "text": [
      "absl-py==0.7.1\n",
      "alembic==0.8.10\n",
      "apache-airflow==1.9.0\n",
      "asn1crypto==0.24.0\n",
      "astor==0.8.0\n",
      "avro==1.9.0\n",
      "backports-abc==0.5\n",
      "backports.functools-lru-cache==1.5\n",
      "backports.shutil-get-terminal-size==1.0.0\n",
      "backports.ssl-match-hostname==3.7.0.1\n",
      "backports.weakref==1.0.post1\n",
      "beautifulsoup4==4.7.1\n",
      "bleach==2.1.2\n",
      "blinker==1.4\n",
      "bokeh==1.2.0\n",
      "brewer2mpl==1.4.1\n",
      "bs4==0.0.1\n",
      "cachetools==2.1.0\n",
      "certifi==2019.3.9\n",
      "cffi==1.12.3\n",
      "chardet==3.0.4\n",
      "Click==7.0\n",
      "cloudpickle==1.1.1\n",
      "configparser==3.5.3\n",
      "crcmod==1.7\n",
      "croniter==0.3.30\n",
      "cryptography==2.3.1\n",
      "cycler==0.10.0\n",
      "cytoolz==0.9.0.1\n",
      "dask==0.17.1\n",
      "datalab==1.1.3\n",
      "decorator==4.4.0\n",
      "defusedxml==0.6.0\n",
      "dill==0.2.6\n",
      "distributed==1.21.8\n",
      "docutils==0.14\n",
      "entrypoints==0.3\n",
      "enum34==1.1.6\n",
      "fastcache==1.1.0\n",
      "Flask==0.11.1\n",
      "Flask-Admin==1.4.1\n",
      "Flask-Cache==0.13.1\n",
      "Flask-Login==0.2.11\n",
      "flask-swagger==0.2.13\n",
      "Flask-WTF==0.14\n",
      "funcsigs==1.0.0\n",
      "functools32==3.2.3.post2\n",
      "future==0.16.0\n",
      "futures==3.2.0\n",
      "gast==0.2.2\n",
      "ggplot==0.6.8\n",
      "gitdb2==2.0.5\n",
      "GitPython==2.1.11\n",
      "google-api-core==0.1.4\n",
      "google-api-python-client==1.6.2\n",
      "google-apitools==0.5.10\n",
      "google-auth==1.6.3\n",
      "google-auth-httplib2==0.0.3\n",
      "google-auth-oauthlib==0.3.0\n",
      "google-cloud==0.34.0\n",
      "google-cloud-bigquery==0.23.0\n",
      "google-cloud-core==0.23.1\n",
      "google-cloud-dataflow==2.0.0\n",
      "google-cloud-monitoring==0.28.0\n",
      "google-resumable-media==0.3.2\n",
      "googleapis-common-protos==1.5.10\n",
      "googledatastore==7.0.1\n",
      "grpcio==1.21.1\n",
      "gunicorn==19.9.0\n",
      "h5py==2.7.1\n",
      "heapdict==1.0.0\n",
      "html5lib==1.0.1\n",
      "httplib2==0.13.0\n",
      "idna==2.6\n",
      "imageio==2.5.0\n",
      "ipaddress==1.0.22\n",
      "ipykernel==4.8.2\n",
      "ipython==5.8.0\n",
      "ipython-genutils==0.2.0\n",
      "ipywidgets==7.2.1\n",
      "itsdangerous==1.1.0\n",
      "Jinja2==2.8\n",
      "jsonschema==2.6.0\n",
      "jupyter-client==5.2.4\n",
      "jupyter-core==4.4.0\n",
      "lime==0.1.1.23\n",
      "locket==0.2.0\n",
      "lockfile==0.12.2\n",
      "lxml==3.8.0\n",
      "Mako==1.0.12\n",
      "Markdown==2.6.11\n",
      "MarkupSafe==1.1.1\n",
      "matplotlib==2.1.2\n",
      "mistune==0.8.4\n",
      "mltoolbox-datalab-classification-and-regression==1.0.1\n",
      "mltoolbox-datalab-image-classification==0.2\n",
      "mock==2.0.0\n",
      "msgpack==0.6.1\n",
      "nbconvert==5.5.0\n",
      "nbformat==4.4.0\n",
      "networkx==2.2\n",
      "nltk==3.2.1\n",
      "notebook==5.7.8\n",
      "numpy==1.14.0\n",
      "oauth2client==2.2.0\n",
      "oauthlib==3.0.1\n",
      "olefile==0.46\n",
      "ordereddict==1.1\n",
      "packaging==19.0\n",
      "pandas==0.22.0\n",
      "pandas-gbq==0.3.0\n",
      "pandas-profiling==1.4.2\n",
      "pandocfilters==1.4.2\n",
      "partd==0.3.10\n",
      "pathlib2==2.3.3\n",
      "patsy==0.5.1\n",
      "pbr==5.1.3\n",
      "pexpect==4.7.0\n",
      "pickleshare==0.7.5\n",
      "Pillow==3.4.1\n",
      "plotly==1.12.5\n",
      "prometheus-client==0.6.0\n",
      "prompt-toolkit==1.0.15\n",
      "proto-google-cloud-datastore-v1==0.90.0\n",
      "protobuf==3.6.1\n",
      "psutil==4.3.0\n",
      "ptyprocess==0.6.0\n",
      "pyasn1==0.4.5\n",
      "pyasn1-modules==0.2.4\n",
      "pycparser==2.19\n",
      "Pygments==2.1.3\n",
      "PyJWT==1.7.1\n",
      "pyOpenSSL==19.0.0\n",
      "pyparsing==2.4.0\n",
      "PySocks==1.7.0\n",
      "python-daemon==2.1.2\n",
      "python-dateutil==2.5.0\n",
      "python-editor==1.0.4\n",
      "python-nvd3==0.14.2\n",
      "python-slugify==1.1.4\n",
      "python-snappy==0.5.1\n",
      "pytz==2018.4\n",
      "PyWavelets==1.0.3\n",
      "PyYAML==3.13\n",
      "pyzmq==17.1.0\n",
      "requests==2.18.4\n",
      "requests-oauthlib==1.2.0\n",
      "rsa==3.4.2\n",
      "scandir==1.10.0\n",
      "scikit-image==0.13.0\n",
      "scikit-learn==0.19.1\n",
      "scipy==1.0.0\n",
      "seaborn==0.7.0\n",
      "Send2Trash==1.5.0\n",
      "setproctitle==1.1.10\n",
      "simplegeneric==0.8.1\n",
      "simplejson==3.16.0\n",
      "singledispatch==3.4.0.3\n",
      "six==1.10.0\n",
      "smmap2==2.0.5\n",
      "sortedcontainers==2.1.0\n",
      "soupsieve==1.9.1\n",
      "SQLAlchemy==1.3.4\n",
      "statsmodels==0.8.0\n",
      "subprocess32==3.5.4\n",
      "sympy==0.7.6.1\n",
      "tabulate==0.7.7\n",
      "tblib==1.4.0\n",
      "tensorboard==1.8.0\n",
      "tensorflow==1.8.0\n",
      "termcolor==1.1.0\n",
      "terminado==0.8.2\n",
      "testpath==0.4.2\n",
      "thrift==0.11.0\n",
      "toolz==0.9.0\n",
      "tornado==4.5.1\n",
      "traitlets==4.3.2\n",
      "Unidecode==1.0.23\n",
      "uritemplate==3.0.0\n",
      "urllib3==1.22\n",
      "wcwidth==0.1.7\n",
      "webencodings==0.5.1\n",
      "Werkzeug==0.15.4\n",
      "widgetsnbextension==3.2.1\n",
      "WTForms==2.2.1\n",
      "xgboost==0.6a2\n",
      "zict==0.1.4\n",
      "zope.deprecation==4.4.0\n"
     ]
    }
   ],
   "source": [
    "%bash\n",
    "pip freeze"
   ]
  },
  {
   "cell_type": "code",
   "execution_count": 21,
   "metadata": {},
   "outputs": [
    {
     "name": "stdout",
     "output_type": "stream",
     "text": [
      "Requirement already satisfied: google-cloud in /usr/local/envs/py2env/lib/python2.7/site-packages (0.34.0)\n"
     ]
    }
   ],
   "source": [
    "%bash\n",
    "pip install google-cloud"
   ]
  },
  {
   "cell_type": "code",
   "execution_count": 22,
   "metadata": {},
   "outputs": [
    {
     "name": "stdout",
     "output_type": "stream",
     "text": [
      "Collecting git+https://github.com/matplotlib/basemap.git\n",
      "  Cloning https://github.com/matplotlib/basemap.git to /tmp/pip-req-build-Su1yX7\n",
      "    Complete output from command python setup.py egg_info:\n",
      "    checking for GEOS lib in /content ....\n",
      "    checking for GEOS lib in /content/local ....\n",
      "    checking for GEOS lib in /usr ....\n",
      "    checking for GEOS lib in /usr/local ....\n",
      "    checking for GEOS lib in /sw ....\n",
      "    checking for GEOS lib in /opt ....\n",
      "    checking for GEOS lib in /opt/local ....\n",
      "    \n",
      "    Can't find geos library in standard locations ('/content', '/content/local', '/usr', '/usr/local', '/sw', '/opt', '/opt/local').\n",
      "    Please install the corresponding packages using your\n",
      "    systems software management system (e.g. for Debian Linux do:\n",
      "    'apt-get install libgeos-3.3.3 libgeos-c1 libgeos-dev' and/or\n",
      "    set the environment variable GEOS_DIR to point to the location\n",
      "    where geos is installed (for example, if geos_c.h\n",
      "    is in /usr/local/include, and libgeos_c is in /usr/local/lib,\n",
      "    set GEOS_DIR to /usr/local), or edit the setup.py script\n",
      "    manually and set the variable GEOS_dir (right after the line\n",
      "    that says \"set GEOS_dir manually here\".\n",
      "    \n",
      "    ----------------------------------------\n"
     ]
    },
    {
     "name": "stderr",
     "output_type": "stream",
     "text": [
      "Command \"python setup.py egg_info\" failed with error code 1 in /tmp/pip-req-build-Su1yX7/\n"
     ]
    }
   ],
   "source": [
    "%%bash\n",
    "pip install --user git+https://github.com/matplotlib/basemap.git"
   ]
  },
  {
   "cell_type": "code",
   "execution_count": 23,
   "metadata": {},
   "outputs": [
    {
     "data": {
      "text/html": [
       "This cell will print out a <b> HTML </b> string."
      ],
      "text/plain": [
       "<IPython.core.display.HTML object>"
      ]
     },
     "metadata": {},
     "output_type": "display_data"
    }
   ],
   "source": [
    "%%html\n",
    "This cell will print out a <b> HTML </b> string."
   ]
  },
  {
   "cell_type": "code",
   "execution_count": 24,
   "metadata": {},
   "outputs": [
    {
     "name": "stdout",
     "output_type": "stream",
     "text": [
      "Requirement already satisfied: google-cloud-bigquery==0.23.0 in /usr/local/envs/py2env/lib/python2.7/site-packages (0.23.0)\n",
      "Requirement already satisfied: google-cloud-core<0.24dev,>=0.23.1 in /usr/local/envs/py2env/lib/python2.7/site-packages (from google-cloud-bigquery==0.23.0) (0.23.1)\n",
      "Requirement already satisfied: googleapis-common-protos>=1.3.4 in /usr/local/envs/py2env/lib/python2.7/site-packages (from google-cloud-core<0.24dev,>=0.23.1->google-cloud-bigquery==0.23.0) (1.5.10)\n",
      "Requirement already satisfied: six in /usr/local/envs/py2env/lib/python2.7/site-packages (from google-cloud-core<0.24dev,>=0.23.1->google-cloud-bigquery==0.23.0) (1.10.0)\n",
      "Requirement already satisfied: google-auth-httplib2 in /usr/local/envs/py2env/lib/python2.7/site-packages (from google-cloud-core<0.24dev,>=0.23.1->google-cloud-bigquery==0.23.0) (0.0.3)\n",
      "Requirement already satisfied: google-auth<2.0.0dev,>=0.4.0 in /usr/local/envs/py2env/lib/python2.7/site-packages (from google-cloud-core<0.24dev,>=0.23.1->google-cloud-bigquery==0.23.0) (1.6.3)\n",
      "Requirement already satisfied: httplib2>=0.9.1 in /usr/local/envs/py2env/lib/python2.7/site-packages (from google-cloud-core<0.24dev,>=0.23.1->google-cloud-bigquery==0.23.0) (0.13.0)\n",
      "Requirement already satisfied: protobuf>=3.0.0 in /usr/local/envs/py2env/lib/python2.7/site-packages (from google-cloud-core<0.24dev,>=0.23.1->google-cloud-bigquery==0.23.0) (3.6.1)\n",
      "Requirement already satisfied: pyasn1-modules>=0.2.1 in /usr/local/envs/py2env/lib/python2.7/site-packages (from google-auth<2.0.0dev,>=0.4.0->google-cloud-core<0.24dev,>=0.23.1->google-cloud-bigquery==0.23.0) (0.2.4)\n",
      "Requirement already satisfied: cachetools>=2.0.0 in /usr/local/envs/py2env/lib/python2.7/site-packages (from google-auth<2.0.0dev,>=0.4.0->google-cloud-core<0.24dev,>=0.23.1->google-cloud-bigquery==0.23.0) (2.1.0)\n",
      "Requirement already satisfied: rsa>=3.1.4 in /usr/local/envs/py2env/lib/python2.7/site-packages (from google-auth<2.0.0dev,>=0.4.0->google-cloud-core<0.24dev,>=0.23.1->google-cloud-bigquery==0.23.0) (3.4.2)\n",
      "Requirement already satisfied: setuptools in /usr/local/envs/py2env/lib/python2.7/site-packages (from protobuf>=3.0.0->google-cloud-core<0.24dev,>=0.23.1->google-cloud-bigquery==0.23.0) (41.0.1)\n",
      "Requirement already satisfied: pyasn1<0.5.0,>=0.4.1 in /usr/local/envs/py2env/lib/python2.7/site-packages (from pyasn1-modules>=0.2.1->google-auth<2.0.0dev,>=0.4.0->google-cloud-core<0.24dev,>=0.23.1->google-cloud-bigquery==0.23.0) (0.4.5)\n"
     ]
    }
   ],
   "source": [
    "%%bash\n",
    "source activate py2env\n",
    "pip install google-cloud-bigquery==0.23.0\n",
    "\n"
   ]
  },
  {
   "cell_type": "code",
   "execution_count": 25,
   "metadata": {},
   "outputs": [],
   "source": [
    "import matplotlib.pyplot as plt\n",
    "import seaborn as sns\n",
    "import pandas as pd\n",
    "import numpy as np"
   ]
  },
  {
   "cell_type": "code",
   "execution_count": 10,
   "metadata": {},
   "outputs": [
    {
     "data": {
      "text/html": [
       "\n",
       "    <div class=\"bqtv\" id=\"1_158655712426\"><table><tr><th>frac_delayed</th></tr><tr><td>0.186110869988</td></tr></table></div>\n",
       "    <br />(rows: 1, time: 0.8s,    45MB processed, job: job_UTKx7GiEMYjQJXumxrCex9mYvZiM)<br />\n",
       "    <script src=\"/static/components/requirejs/require.js\"></script>\n",
       "    <script>\n",
       "\n",
       "      require.config({\n",
       "        paths: {\n",
       "          base: '/static/base',\n",
       "          d3: '//cdnjs.cloudflare.com/ajax/libs/d3/3.4.13/d3',\n",
       "          plotly: 'https://cdn.plot.ly/plotly-1.5.1.min.js?noext',\n",
       "          jquery: '//ajax.googleapis.com/ajax/libs/jquery/2.0.0/jquery.min'\n",
       "        },\n",
       "        map: {\n",
       "          '*': {\n",
       "            datalab: 'nbextensions/gcpdatalab'\n",
       "          }\n",
       "        },\n",
       "        shim: {\n",
       "          plotly: {\n",
       "            deps: ['d3', 'jquery'],\n",
       "            exports: 'plotly'\n",
       "          }\n",
       "        }\n",
       "      });\n",
       "\n",
       "      require(['datalab/charting', 'datalab/element!1_158655712426', 'base/js/events',\n",
       "          'datalab/style!/nbextensions/gcpdatalab/charting.css'],\n",
       "        function(charts, dom, events) {\n",
       "          charts.render('gcharts', dom, events, 'table', [], {\"rows\": [{\"c\": [{\"v\": 0.18611086998828144}]}], \"cols\": [{\"type\": \"number\", \"id\": \"frac_delayed\", \"label\": \"frac_delayed\"}]},\n",
       "            {\n",
       "              pageSize: 25,\n",
       "              cssClassNames:  {\n",
       "                tableRow: 'gchart-table-row',\n",
       "                headerRow: 'gchart-table-headerrow',\n",
       "                oddTableRow: 'gchart-table-oddrow',\n",
       "                selectedTableRow: 'gchart-table-selectedrow',\n",
       "                hoverTableRow: 'gchart-table-hoverrow',\n",
       "                tableCell: 'gchart-table-cell',\n",
       "                headerCell: 'gchart-table-headercell',\n",
       "                rowNumberCell: 'gchart-table-rownumcell'\n",
       "              }\n",
       "            },\n",
       "            {source_index: 0, fields: 'frac_delayed', legacy: 'true'},\n",
       "            0,\n",
       "            1);\n",
       "        }\n",
       "      );\n",
       "    </script>\n",
       "  "
      ],
      "text/plain": [
       "QueryResultsTable job_UTKx7GiEMYjQJXumxrCex9mYvZiM"
      ]
     },
     "execution_count": 10,
     "metadata": {},
     "output_type": "execute_result"
    }
   ],
   "source": [
    "%%bigquery sample\n",
    "  SELECT \n",
    "    SUM(CASE WHEN (arr_delay >= 15) THEN 1 ELSE 0 END)/COUNT(arr_delay) AS frac_delayed\n",
    "  FROM flights.tzcorr  \n",
    "\n"
   ]
  },
  {
   "cell_type": "code",
   "execution_count": 20,
   "metadata": {},
   "outputs": [
    {
     "data": {
      "text/html": [
       "<div>\n",
       "<style scoped>\n",
       "    .dataframe tbody tr th:only-of-type {\n",
       "        vertical-align: middle;\n",
       "    }\n",
       "\n",
       "    .dataframe tbody tr th {\n",
       "        vertical-align: top;\n",
       "    }\n",
       "\n",
       "    .dataframe thead th {\n",
       "        text-align: right;\n",
       "    }\n",
       "</style>\n",
       "<table border=\"1\" class=\"dataframe\">\n",
       "  <thead>\n",
       "    <tr style=\"text-align: right;\">\n",
       "      <th></th>\n",
       "      <th>ARR_DELAY</th>\n",
       "      <th>DEP_DELAY</th>\n",
       "    </tr>\n",
       "  </thead>\n",
       "  <tbody>\n",
       "    <tr>\n",
       "      <th>0</th>\n",
       "      <td>32.0</td>\n",
       "      <td>36.0</td>\n",
       "    </tr>\n",
       "    <tr>\n",
       "      <th>1</th>\n",
       "      <td>34.0</td>\n",
       "      <td>29.0</td>\n",
       "    </tr>\n",
       "    <tr>\n",
       "      <th>2</th>\n",
       "      <td>9.0</td>\n",
       "      <td>11.0</td>\n",
       "    </tr>\n",
       "    <tr>\n",
       "      <th>3</th>\n",
       "      <td>66.0</td>\n",
       "      <td>11.0</td>\n",
       "    </tr>\n",
       "    <tr>\n",
       "      <th>4</th>\n",
       "      <td>89.0</td>\n",
       "      <td>103.0</td>\n",
       "    </tr>\n",
       "  </tbody>\n",
       "</table>\n",
       "</div>"
      ],
      "text/plain": [
       "   ARR_DELAY  DEP_DELAY\n",
       "0       32.0       36.0\n",
       "1       34.0       29.0\n",
       "2        9.0       11.0\n",
       "3       66.0       11.0\n",
       "4       89.0      103.0"
      ]
     },
     "execution_count": 20,
     "metadata": {},
     "output_type": "execute_result"
    }
   ],
   "source": [
    "query = \"\"\"\n",
    "SELECT ARR_DELAY, DEP_DELAY\n",
    "FROM flights.tzcorr\n",
    "WHERE DEP_DELAY >= 10 AND RAND() < 0.001\n",
    "\"\"\"\n",
    "\n",
    "import google.datalab.bigquery as bq\n",
    "df = bq.Query(query).execute().result().to_dataframe()\n",
    "df.head()"
   ]
  },
  {
   "cell_type": "code",
   "execution_count": 21,
   "metadata": {},
   "outputs": [
    {
     "data": {
      "image/png": "[encoded data removed]",
      "text/plain": [
       "<matplotlib.figure.Figure at 0x7f7ea6ae3690>"
      ]
     },
     "metadata": {},
     "output_type": "display_data"
    }
   ],
   "source": [
    "import seaborn as sns\n",
    "\n",
    "sns.set_style(\"whitegrid\")\n",
    "ax = sns.violinplot(data=df, x='ARR_DELAY', inner='box', orient='h')"
   ]
  },
  {
   "cell_type": "code",
   "execution_count": 22,
   "metadata": {},
   "outputs": [
    {
     "data": {
      "text/html": [
       "<div>\n",
       "<style scoped>\n",
       "    .dataframe tbody tr th:only-of-type {\n",
       "        vertical-align: middle;\n",
       "    }\n",
       "\n",
       "    .dataframe tbody tr th {\n",
       "        vertical-align: top;\n",
       "    }\n",
       "\n",
       "    .dataframe thead th {\n",
       "        text-align: right;\n",
       "    }\n",
       "</style>\n",
       "<table border=\"1\" class=\"dataframe\">\n",
       "  <thead>\n",
       "    <tr style=\"text-align: right;\">\n",
       "      <th></th>\n",
       "      <th>ARR_DELAY</th>\n",
       "      <th>DEP_DELAY</th>\n",
       "      <th>ontime</th>\n",
       "    </tr>\n",
       "  </thead>\n",
       "  <tbody>\n",
       "    <tr>\n",
       "      <th>0</th>\n",
       "      <td>32.0</td>\n",
       "      <td>36.0</td>\n",
       "      <td>False</td>\n",
       "    </tr>\n",
       "    <tr>\n",
       "      <th>1</th>\n",
       "      <td>34.0</td>\n",
       "      <td>29.0</td>\n",
       "      <td>False</td>\n",
       "    </tr>\n",
       "    <tr>\n",
       "      <th>2</th>\n",
       "      <td>9.0</td>\n",
       "      <td>11.0</td>\n",
       "      <td>False</td>\n",
       "    </tr>\n",
       "    <tr>\n",
       "      <th>3</th>\n",
       "      <td>66.0</td>\n",
       "      <td>11.0</td>\n",
       "      <td>False</td>\n",
       "    </tr>\n",
       "    <tr>\n",
       "      <th>4</th>\n",
       "      <td>89.0</td>\n",
       "      <td>103.0</td>\n",
       "      <td>False</td>\n",
       "    </tr>\n",
       "  </tbody>\n",
       "</table>\n",
       "</div>"
      ],
      "text/plain": [
       "   ARR_DELAY  DEP_DELAY  ontime\n",
       "0       32.0       36.0   False\n",
       "1       34.0       29.0   False\n",
       "2        9.0       11.0   False\n",
       "3       66.0       11.0   False\n",
       "4       89.0      103.0   False"
      ]
     },
     "execution_count": 22,
     "metadata": {},
     "output_type": "execute_result"
    }
   ],
   "source": [
    "df['ontime'] = df['DEP_DELAY'] < 10\n",
    "df[df['ARR_DELAY'] > 0].head()"
   ]
  },
  {
   "cell_type": "code",
   "execution_count": 23,
   "metadata": {},
   "outputs": [
    {
     "data": {
      "text/plain": [
       "(-50, 200)"
      ]
     },
     "execution_count": 23,
     "metadata": {},
     "output_type": "execute_result"
    },
    {
     "data": {
      "image/png": "[encoded data removed]",
      "text/plain": [
       "<matplotlib.figure.Figure at 0x7f7ea67df850>"
      ]
     },
     "metadata": {},
     "output_type": "display_data"
    }
   ],
   "source": [
    "import seaborn as sns\n",
    "sns.set_style(\"whitegrid\")\n",
    "ax = sns.violinplot(data=df, x='ARR_DELAY', y='ontime', inner='box', orient='h')\n",
    "ax.set_xlim(-50, 200)"
   ]
  },
  {
   "cell_type": "code",
   "execution_count": 24,
   "metadata": {},
   "outputs": [
    {
     "data": {
      "text/plain": [
       "(-50, 50)"
      ]
     },
     "execution_count": 24,
     "metadata": {},
     "output_type": "execute_result"
    },
    {
     "data": {
      "image/png": "[encoded data removed]",
      "text/plain": [
       "<matplotlib.figure.Figure at 0x7f7ea670d590>"
      ]
     },
     "metadata": {},
     "output_type": "display_data"
    }
   ],
   "source": [
    "ax = sns.violinplot(data=df, x='ARR_DELAY', y='ontime', \n",
    "                    inner='box', orient='h', gridsize=1000)\n",
    "ax.set_xlim(-50, 50)"
   ]
  },
  {
   "cell_type": "code",
   "execution_count": 25,
   "metadata": {},
   "outputs": [
    {
     "data": {
      "text/html": [
       "<div>\n",
       "<style scoped>\n",
       "    .dataframe tbody tr th:only-of-type {\n",
       "        vertical-align: middle;\n",
       "    }\n",
       "\n",
       "    .dataframe tbody tr th {\n",
       "        vertical-align: top;\n",
       "    }\n",
       "\n",
       "    .dataframe thead th {\n",
       "        text-align: right;\n",
       "    }\n",
       "</style>\n",
       "<table border=\"1\" class=\"dataframe\">\n",
       "  <thead>\n",
       "    <tr style=\"text-align: right;\">\n",
       "      <th></th>\n",
       "      <th>DEP_DELAY</th>\n",
       "      <th>arrival_delay</th>\n",
       "      <th>stddev_arrival_delay</th>\n",
       "      <th>numflights</th>\n",
       "    </tr>\n",
       "  </thead>\n",
       "  <tbody>\n",
       "    <tr>\n",
       "      <th>0</th>\n",
       "      <td>-23.0</td>\n",
       "      <td>-23.888646</td>\n",
       "      <td>11.432163</td>\n",
       "      <td>458</td>\n",
       "    </tr>\n",
       "    <tr>\n",
       "      <th>1</th>\n",
       "      <td>-22.0</td>\n",
       "      <td>-23.227488</td>\n",
       "      <td>12.590133</td>\n",
       "      <td>633</td>\n",
       "    </tr>\n",
       "    <tr>\n",
       "      <th>2</th>\n",
       "      <td>-21.0</td>\n",
       "      <td>-22.299781</td>\n",
       "      <td>11.558313</td>\n",
       "      <td>914</td>\n",
       "    </tr>\n",
       "    <tr>\n",
       "      <th>3</th>\n",
       "      <td>-20.0</td>\n",
       "      <td>-21.407821</td>\n",
       "      <td>12.066489</td>\n",
       "      <td>1432</td>\n",
       "    </tr>\n",
       "    <tr>\n",
       "      <th>4</th>\n",
       "      <td>-19.0</td>\n",
       "      <td>-20.430769</td>\n",
       "      <td>11.910134</td>\n",
       "      <td>1950</td>\n",
       "    </tr>\n",
       "  </tbody>\n",
       "</table>\n",
       "</div>"
      ],
      "text/plain": [
       "   DEP_DELAY  arrival_delay  stddev_arrival_delay  numflights\n",
       "0      -23.0     -23.888646             11.432163         458\n",
       "1      -22.0     -23.227488             12.590133         633\n",
       "2      -21.0     -22.299781             11.558313         914\n",
       "3      -20.0     -21.407821             12.066489        1432\n",
       "4      -19.0     -20.430769             11.910134        1950"
      ]
     },
     "execution_count": 25,
     "metadata": {},
     "output_type": "execute_result"
    }
   ],
   "source": [
    "query=\"\"\"\n",
    "SELECT\n",
    "  *\n",
    "FROM (\n",
    "  SELECT\n",
    "    DEP_DELAY,\n",
    "    AVG(ARR_DELAY) AS arrival_delay,\n",
    "    STDDEV(ARR_DELAY) AS stddev_arrival_delay,\n",
    "    COUNT(ARR_DELAY) AS numflights\n",
    "  FROM\n",
    "    `flights.tzcorr`\n",
    "  GROUP BY\n",
    "    DEP_DELAY )\n",
    "WHERE\n",
    "  numflights > 370\n",
    "ORDER BY\n",
    "  DEP_DELAY\n",
    "\"\"\"\n",
    "\n",
    "depdelay = bq.Query(query).execute().result().to_dataframe()\n",
    "\n",
    "depdelay[:5]"
   ]
  },
  {
   "cell_type": "code",
   "execution_count": 26,
   "metadata": {},
   "outputs": [
    {
     "data": {
      "image/png": "[encoded data removed]",
      "text/plain": [
       "<matplotlib.figure.Figure at 0x7f7ea6afb1d0>"
      ]
     },
     "metadata": {},
     "output_type": "display_data"
    }
   ],
   "source": [
    "ax = depdelay.plot(kind='line', x='DEP_DELAY', \n",
    "              y='arrival_delay', yerr='stddev_arrival_delay')"
   ]
  },
  {
   "cell_type": "code",
   "execution_count": 27,
   "metadata": {},
   "outputs": [
    {
     "name": "stderr",
     "output_type": "stream",
     "text": [
      "/usr/local/envs/py2env/lib/python2.7/site-packages/matplotlib/cbook/deprecation.py:106: MatplotlibDeprecationWarning: Adding an axes using the same arguments as a previous axes currently reuses the earlier instance.  In a future version, a new instance will always be created and returned.  Meanwhile, this warning can be suppressed, and the future behavior ensured, by passing a unique label to each axes instance.\n",
      "  warnings.warn(message, mplDeprecation, stacklevel=1)\n"
     ]
    },
    {
     "data": {
      "image/png": "[encoded data removed]",
      "text/plain": [
       "<matplotlib.figure.Figure at 0x7f7ed3144a90>"
      ]
     },
     "metadata": {},
     "output_type": "display_data"
    }
   ],
   "source": [
    "import matplotlib.pyplot as plt\n",
    "Z_30 = 0.52\n",
    "depdelay['arr_delay_30'] = (Z_30 * depdelay['stddev_arrival_delay']) \\\n",
    "             + depdelay['arrival_delay']\n",
    "plt.axhline(y=15, color='r')\n",
    "ax = plt.axes()\n",
    "depdelay.plot(kind='line', x='DEP_DELAY', y='arr_delay_30',\n",
    "              ax=ax, ylim=(0,30), xlim=(0,30), legend=False)\n",
    "ax.set_xlabel('Departure Delay (minutes)')\n",
    "ax.set_ylabel('> 30% likelihood of this Arrival Delay (minutes)');"
   ]
  },
  {
   "cell_type": "code",
   "execution_count": 29,
   "metadata": {},
   "outputs": [
    {
     "name": "stdout",
     "output_type": "stream",
     "text": [
      "0    0.950158\n",
      "dtype: float64\n",
      "0    0.804703\n",
      "dtype: float64\n"
     ]
    }
   ],
   "source": [
    "query = \"\"\"\n",
    "SELECT\n",
    "  SUM(IF(DEP_DELAY < 16\n",
    "      AND arr_delay < 15, 1, 0)) AS correct_nocancel,\n",
    "  SUM(IF(DEP_DELAY < 16\n",
    "      AND arr_delay >= 15, 1, 0)) AS wrong_nocancel,\n",
    "  SUM(IF(DEP_DELAY >= 16\n",
    "      AND arr_delay < 15, 1, 0)) AS wrong_cancel,\n",
    "  SUM(IF(DEP_DELAY >= 16\n",
    "      AND arr_delay >= 15, 1, 0)) AS correct_cancel\n",
    "FROM (\n",
    "  SELECT\n",
    "    DEP_DELAY,\n",
    "    ARR_DELAY\n",
    "  FROM\n",
    "    `flights.tzcorr` f\n",
    "  JOIN\n",
    "    `flights.trainday` t\n",
    "  ON\n",
    "    f.FL_DATE = t.FL_DATE\n",
    "  WHERE\n",
    "    t.is_train_day = 'False' )\n",
    "\"\"\"\n",
    "\n",
    "eval = bq.Query(query).execute().result().to_dataframe()\n",
    "\n",
    "print(eval['correct_nocancel'] /\n",
    "      (eval['correct_nocancel'] + eval['wrong_nocancel']))\n",
    "print(eval['correct_cancel'] / \n",
    "      (eval['correct_cancel'] + eval['wrong_cancel']))"
   ]
  },
  {
   "cell_type": "code",
   "execution_count": 30,
   "metadata": {},
   "outputs": [
    {
     "name": "stdout",
     "output_type": "stream",
     "text": [
      "\n",
      "\n",
      "Updates are available for some Cloud SDK components.  To install them,\n",
      "please run:\n",
      "  $ gcloud components update\n",
      "\n",
      "Dataset 'constant-jigsaw-272415:temp_dataset' successfully created.\n"
     ]
    }
   ],
   "source": [
    "!bq mk temp_dataset"
   ]
  },
  {
   "cell_type": "code",
   "execution_count": 50,
   "metadata": {},
   "outputs": [
    {
     "data": {
      "text/html": [
       "\n",
       "    <div class=\"bqtv\" id=\"3_158655948954\"><table><tr><th>DEP_DELAY</th><th>arrival_delay</th><th>numflights</th></tr><tr><td>-22.0</td><td>-19.0</td><td>439</td></tr><tr><td>-21.0</td><td>-19.0</td><td>660</td></tr><tr><td>-20.0</td><td>-17.0</td><td>1019</td></tr><tr><td>-19.0</td><td>-16.0</td><td>1400</td></tr><tr><td>-18.0</td><td>-15.0</td><td>2149</td></tr><tr><td>-17.0</td><td>-14.0</td><td>3085</td></tr><tr><td>-16.0</td><td>-13.0</td><td>4554</td></tr><tr><td>-15.0</td><td>-13.0</td><td>7452</td></tr><tr><td>-14.0</td><td>-12.0</td><td>10538</td></tr><tr><td>-13.0</td><td>-11.0</td><td>15689</td></tr><tr><td>-12.0</td><td>-10.0</td><td>23723</td></tr><tr><td>-11.0</td><td>-10.0</td><td>35439</td></tr><tr><td>-10.0</td><td>-9.0</td><td>74242</td></tr><tr><td>-9.0</td><td>-8.0</td><td>87412</td></tr><tr><td>-8.0</td><td>-7.0</td><td>124096</td></tr><tr><td>-7.0</td><td>-7.0</td><td>173154</td></tr><tr><td>-6.0</td><td>-7.0</td><td>231211</td></tr><tr><td>-5.0</td><td>-6.0</td><td>313758</td></tr><tr><td>-4.0</td><td>-5.0</td><td>316645</td></tr><tr><td>-3.0</td><td>-4.0</td><td>325230</td></tr><tr><td>-2.0</td><td>-4.0</td><td>311958</td></tr><tr><td>-1.0</td><td>-2.0</td><td>277660</td></tr><tr><td>0.0</td><td>-1.0</td><td>236014</td></tr><tr><td>1.0</td><td>0.0</td><td>115120</td></tr><tr><td>2.0</td><td>1.0</td><td>87302</td></tr></table></div>\n",
       "    <br />(rows: 224, time: 2.0s,   138MB processed, job: job_Epjr25DjUeq3XzTHG3dFZDTd1AFI)<br />\n",
       "    <script src=\"/static/components/requirejs/require.js\"></script>\n",
       "    <script>\n",
       "\n",
       "      require.config({\n",
       "        paths: {\n",
       "          base: '/static/base',\n",
       "          d3: '//cdnjs.cloudflare.com/ajax/libs/d3/3.4.13/d3',\n",
       "          plotly: 'https://cdn.plot.ly/plotly-1.5.1.min.js?noext',\n",
       "          jquery: '//ajax.googleapis.com/ajax/libs/jquery/2.0.0/jquery.min'\n",
       "        },\n",
       "        map: {\n",
       "          '*': {\n",
       "            datalab: 'nbextensions/gcpdatalab'\n",
       "          }\n",
       "        },\n",
       "        shim: {\n",
       "          plotly: {\n",
       "            deps: ['d3', 'jquery'],\n",
       "            exports: 'plotly'\n",
       "          }\n",
       "        }\n",
       "      });\n",
       "\n",
       "      require(['datalab/charting', 'datalab/element!3_158655948954', 'base/js/events',\n",
       "          'datalab/style!/nbextensions/gcpdatalab/charting.css'],\n",
       "        function(charts, dom, events) {\n",
       "          charts.render('gcharts', dom, events, 'paged_table', [], {\"rows\": [{\"c\": [{\"v\": -22.0}, {\"v\": -19.0}, {\"v\": 439}]}, {\"c\": [{\"v\": -21.0}, {\"v\": -19.0}, {\"v\": 660}]}, {\"c\": [{\"v\": -20.0}, {\"v\": -17.0}, {\"v\": 1019}]}, {\"c\": [{\"v\": -19.0}, {\"v\": -16.0}, {\"v\": 1400}]}, {\"c\": [{\"v\": -18.0}, {\"v\": -15.0}, {\"v\": 2149}]}, {\"c\": [{\"v\": -17.0}, {\"v\": -14.0}, {\"v\": 3085}]}, {\"c\": [{\"v\": -16.0}, {\"v\": -13.0}, {\"v\": 4554}]}, {\"c\": [{\"v\": -15.0}, {\"v\": -13.0}, {\"v\": 7452}]}, {\"c\": [{\"v\": -14.0}, {\"v\": -12.0}, {\"v\": 10538}]}, {\"c\": [{\"v\": -13.0}, {\"v\": -11.0}, {\"v\": 15689}]}, {\"c\": [{\"v\": -12.0}, {\"v\": -10.0}, {\"v\": 23723}]}, {\"c\": [{\"v\": -11.0}, {\"v\": -10.0}, {\"v\": 35439}]}, {\"c\": [{\"v\": -10.0}, {\"v\": -9.0}, {\"v\": 74242}]}, {\"c\": [{\"v\": -9.0}, {\"v\": -8.0}, {\"v\": 87412}]}, {\"c\": [{\"v\": -8.0}, {\"v\": -7.0}, {\"v\": 124096}]}, {\"c\": [{\"v\": -7.0}, {\"v\": -7.0}, {\"v\": 173154}]}, {\"c\": [{\"v\": -6.0}, {\"v\": -7.0}, {\"v\": 231211}]}, {\"c\": [{\"v\": -5.0}, {\"v\": -6.0}, {\"v\": 313758}]}, {\"c\": [{\"v\": -4.0}, {\"v\": -5.0}, {\"v\": 316645}]}, {\"c\": [{\"v\": -3.0}, {\"v\": -4.0}, {\"v\": 325230}]}, {\"c\": [{\"v\": -2.0}, {\"v\": -4.0}, {\"v\": 311958}]}, {\"c\": [{\"v\": -1.0}, {\"v\": -2.0}, {\"v\": 277660}]}, {\"c\": [{\"v\": 0.0}, {\"v\": -1.0}, {\"v\": 236014}]}, {\"c\": [{\"v\": 1.0}, {\"v\": 0.0}, {\"v\": 115120}]}, {\"c\": [{\"v\": 2.0}, {\"v\": 1.0}, {\"v\": 87302}]}], \"cols\": [{\"type\": \"number\", \"id\": \"DEP_DELAY\", \"label\": \"DEP_DELAY\"}, {\"type\": \"number\", \"id\": \"arrival_delay\", \"label\": \"arrival_delay\"}, {\"type\": \"number\", \"id\": \"numflights\", \"label\": \"numflights\"}]},\n",
       "            {\n",
       "              pageSize: 25,\n",
       "              cssClassNames:  {\n",
       "                tableRow: 'gchart-table-row',\n",
       "                headerRow: 'gchart-table-headerrow',\n",
       "                oddTableRow: 'gchart-table-oddrow',\n",
       "                selectedTableRow: 'gchart-table-selectedrow',\n",
       "                hoverTableRow: 'gchart-table-hoverrow',\n",
       "                tableCell: 'gchart-table-cell',\n",
       "                headerCell: 'gchart-table-headercell',\n",
       "                rowNumberCell: 'gchart-table-rownumcell'\n",
       "              }\n",
       "            },\n",
       "            {source_index: 2, fields: 'DEP_DELAY,arrival_delay,numflights', legacy: 'true'},\n",
       "            0,\n",
       "            224);\n",
       "        }\n",
       "      );\n",
       "    </script>\n",
       "  "
      ],
      "text/plain": [
       "QueryResultsTable job_Epjr25DjUeq3XzTHG3dFZDTd1AFI"
      ]
     },
     "execution_count": 50,
     "metadata": {},
     "output_type": "execute_result"
    }
   ],
   "source": [
    "%%bigquery execute -d standard -t temp_dataset.delays\n",
    "\n",
    "SELECT\n",
    "  DEP_DELAY,\n",
    "  arrival_delay,\n",
    "  numflights\n",
    "FROM (\n",
    "  SELECT\n",
    "    DEP_DELAY,\n",
    "    APPROX_QUANTILES(ARR_DELAY, 101)[OFFSET(70)] AS arrival_delay,\n",
    "    COUNT(ARR_DELAY) AS numflights\n",
    "  FROM\n",
    "    `flights.tzcorr` f\n",
    "  JOIN\n",
    "    `flights.trainday` t\n",
    "  ON\n",
    "    f.FL_DATE = t.FL_DATE\n",
    "  WHERE\n",
    "    t.is_train_day = 'True'\n",
    "  GROUP BY\n",
    "    DEP_DELAY )\n",
    "WHERE\n",
    "  numflights > 370\n",
    "ORDER BY\n",
    "  DEP_DELAY\n",
    "\n"
   ]
  }
 ],
 "metadata": {
  "kernelspec": {
   "display_name": "Python 2",
   "language": "python",
   "name": "python2"
  },
  "language_info": {
   "codemirror_mode": {
    "name": "ipython",
    "version": 2
   },
   "file_extension": ".py",
   "mimetype": "text/x-python",
   "name": "python",
   "nbconvert_exporter": "python",
   "pygments_lexer": "ipython2",
   "version": "2.7.15"
  }
 },
 "nbformat": 4,
 "nbformat_minor": 2
}
